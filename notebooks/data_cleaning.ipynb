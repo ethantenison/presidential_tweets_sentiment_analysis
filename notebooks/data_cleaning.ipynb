{
 "cells": [
  {
   "cell_type": "markdown",
   "metadata": {},
   "source": [
    "# Sentiment Analysis of Trump and Biden's Tweets January 21st to August 15th "
   ]
  },
  {
   "cell_type": "code",
   "execution_count": 22,
   "metadata": {},
   "outputs": [],
   "source": [
    "import pandas as pd  \n",
    "import numpy as np  \n",
    "import nltk         \n",
    "from os import getcwd\n",
    "from nltk.corpus import twitter_samples \n",
    "\n",
    "from utils import process_tweet, build_freqs"
   ]
  },
  {
   "cell_type": "markdown",
   "metadata": {},
   "source": [
    "**corpura** - C:\\Users\\tenis\\AppData\\Roaming\\nltk_data"
   ]
  },
  {
   "cell_type": "code",
   "execution_count": 27,
   "metadata": {},
   "outputs": [],
   "source": [
    "positive_tweets = twitter_samples.strings('positive_tweets.json')\n",
    "negative_tweets = twitter_samples.strings('negative_tweets.json')"
   ]
  },
  {
   "cell_type": "code",
   "execution_count": null,
   "metadata": {},
   "outputs": [],
   "source": []
  },
  {
   "cell_type": "code",
   "execution_count": 13,
   "metadata": {},
   "outputs": [],
   "source": [
    "biden = pd.read_csv('data/JoeBidenTweets.csv')\n",
    "trump = pd.read_csv('data/trumps_tweets.csv')"
   ]
  },
  {
   "cell_type": "code",
   "execution_count": 14,
   "metadata": {},
   "outputs": [
    {
     "name": "stdout",
     "output_type": "stream",
     "text": [
      "<class 'pandas.core.frame.DataFrame'>\n",
      "RangeIndex: 5238 entries, 0 to 5237\n",
      "Data columns (total 7 columns):\n",
      " #   Column     Non-Null Count  Dtype         \n",
      "---  ------     --------------  -----         \n",
      " 0   id         5238 non-null   float64       \n",
      " 1   username   5238 non-null   object        \n",
      " 2   timestamp  5238 non-null   datetime64[ns]\n",
      " 3   link       5238 non-null   object        \n",
      " 4   tweet      5238 non-null   object        \n",
      " 5   retweets   5238 non-null   int64         \n",
      " 6   likes      5238 non-null   int64         \n",
      "dtypes: datetime64[ns](1), float64(1), int64(2), object(3)\n",
      "memory usage: 286.6+ KB\n"
     ]
    }
   ],
   "source": [
    "biden['timestamp'] = pd.to_datetime(biden['timestamp'])\n",
    "biden.info()"
   ]
  },
  {
   "cell_type": "code",
   "execution_count": 15,
   "metadata": {},
   "outputs": [
    {
     "name": "stdout",
     "output_type": "stream",
     "text": [
      "<class 'pandas.core.frame.DataFrame'>\n",
      "RangeIndex: 7163 entries, 0 to 7162\n",
      "Data columns (total 7 columns):\n",
      " #   Column          Non-Null Count  Dtype         \n",
      "---  ------          --------------  -----         \n",
      " 0   source          7163 non-null   object        \n",
      " 1   text            7163 non-null   object        \n",
      " 2   created_at      7163 non-null   datetime64[ns]\n",
      " 3   retweet_count   7163 non-null   int64         \n",
      " 4   favorite_count  7163 non-null   int64         \n",
      " 5   is_retweet      7163 non-null   bool          \n",
      " 6   id_str          7163 non-null   float64       \n",
      "dtypes: bool(1), datetime64[ns](1), float64(1), int64(2), object(2)\n",
      "memory usage: 342.9+ KB\n"
     ]
    }
   ],
   "source": [
    "trump['created_at'] = pd.to_datetime(trump['created_at'])\n",
    "trump.info()"
   ]
  },
  {
   "cell_type": "code",
   "execution_count": 8,
   "metadata": {},
   "outputs": [],
   "source": []
  },
  {
   "cell_type": "code",
   "execution_count": 11,
   "metadata": {},
   "outputs": [
    {
     "name": "stdout",
     "output_type": "stream",
     "text": [
      "<class 'pandas.core.frame.DataFrame'>\n",
      "RangeIndex: 5238 entries, 0 to 5237\n",
      "Data columns (total 7 columns):\n",
      " #   Column     Non-Null Count  Dtype         \n",
      "---  ------     --------------  -----         \n",
      " 0   id         5238 non-null   float64       \n",
      " 1   username   5238 non-null   object        \n",
      " 2   timestamp  5238 non-null   datetime64[ns]\n",
      " 3   link       5238 non-null   object        \n",
      " 4   tweet      5238 non-null   object        \n",
      " 5   retweets   5238 non-null   int64         \n",
      " 6   likes      5238 non-null   int64         \n",
      "dtypes: datetime64[ns](1), float64(1), int64(2), object(3)\n",
      "memory usage: 286.6+ KB\n"
     ]
    }
   ],
   "source": []
  },
  {
   "cell_type": "code",
   "execution_count": null,
   "metadata": {},
   "outputs": [],
   "source": []
  }
 ],
 "metadata": {
  "kernelspec": {
   "display_name": "Python 3",
   "language": "python",
   "name": "python3"
  },
  "language_info": {
   "codemirror_mode": {
    "name": "ipython",
    "version": 3
   },
   "file_extension": ".py",
   "mimetype": "text/x-python",
   "name": "python",
   "nbconvert_exporter": "python",
   "pygments_lexer": "ipython3",
   "version": "3.8.3"
  }
 },
 "nbformat": 4,
 "nbformat_minor": 4
}
